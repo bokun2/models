{
 "cells": [
  {
   "cell_type": "code",
   "execution_count": 1,
   "metadata": {},
   "outputs": [
    {
     "data": {
      "text/plain": [
       "<contextlib.ExitStack at 0x297c68c90>"
      ]
     },
     "execution_count": 1,
     "metadata": {},
     "output_type": "execute_result"
    }
   ],
   "source": [
    "from __future__ import print_function, division\n",
    "\n",
    "import torch\n",
    "import torch.nn as nn\n",
    "import torch.optim as optim\n",
    "from torch.optim import lr_scheduler\n",
    "import torch.backends.cudnn as cudnn\n",
    "import numpy as np\n",
    "import torchvision\n",
    "from torchvision import datasets, models, transforms\n",
    "import matplotlib.pyplot as plt\n",
    "import time\n",
    "import os\n",
    "import copy\n",
    "from sklearn.metrics import classification_report\n",
    "cudnn.benchmark = True\n",
    "plt.ion()"
   ]
  },
  {
   "cell_type": "code",
   "execution_count": 6,
   "metadata": {},
   "outputs": [],
   "source": [
    "data_transforms = transforms.Compose([\n",
    "     transforms.Resize((300, 400)), \n",
    "                                 transforms.ToTensor()\n",
    "])\n",
    "image_datasets = {x: datasets.ImageFolder(os.path.join('frames', x),data_transforms)\n",
    "                  for x in ['train','test']}\n",
    "dataloaders = {x: torch.utils.data.DataLoader(image_datasets[x], batch_size=4,\n",
    "                                             shuffle=True, num_workers=4) for x in ['train','test']}\n",
    "dataset_sizes = {x: len(image_datasets[x]) for x in ['train','test']}\n",
    "class_names = image_datasets['train'].classes\n",
    "def train_model(model, criterion, optimizer, scheduler):\n",
    "    num_epochs=25\n",
    "    best_model_wts = copy.deepcopy(model.state_dict())\n",
    "    for e in range(num_epochs):\n",
    "        print(f'Epoch {e}/{num_epochs}')\n",
    "        for phase in ['train','test']:\n",
    "            if phase == 'train':\n",
    "                model.train()  \n",
    "            else:\n",
    "                model.eval() \n",
    "            loss_value = 0.0\n",
    "            count = 0\n",
    "            for inputs, labels in dataloaders[phase]:\n",
    "                optimizer.zero_grad()\n",
    "                with torch.set_grad_enabled(phase=='train'):\n",
    "                    outputs = model(inputs)\n",
    "                    x, preds = torch.max(outputs, 1)\n",
    "                    loss = criterion(outputs, labels)\n",
    "                    if phase == 'train':\n",
    "                        loss.backward()\n",
    "                        optimizer.step()\n",
    "                loss_value+=loss.item()*inputs.size(0)\n",
    "                count+=torch.sum(preds == labels.data)\n",
    "            if phase == 'train':\n",
    "                scheduler.step()\n",
    "            epoch_loss = loss_value / dataset_sizes[phase]\n",
    "            epoch_acc = count.double() / dataset_sizes[phase]\n",
    "            print(f'{phase} Loss: {epoch_loss:.4f} Acc: {epoch_acc:.4f}')\n",
    "    model.load_state_dict(best_model_wts)\n",
    "    return model\n",
    "\n"
   ]
  },
  {
   "cell_type": "code",
   "execution_count": 9,
   "metadata": {},
   "outputs": [
    {
     "name": "stdout",
     "output_type": "stream",
     "text": [
      "Epoch 0/24\n",
      "----------\n",
      "train Loss: 0.4552 Acc: 0.8212\n",
      "test Loss: 0.8313 Acc: 0.6934\n",
      "\n",
      "Epoch 1/24\n",
      "----------\n",
      "train Loss: 0.2730 Acc: 0.9010\n",
      "test Loss: 0.7612 Acc: 0.7339\n",
      "\n",
      "Epoch 2/24\n",
      "----------\n",
      "train Loss: 0.1612 Acc: 0.9434\n",
      "test Loss: 1.0070 Acc: 0.7518\n",
      "\n",
      "Epoch 3/24\n",
      "----------\n",
      "train Loss: 0.0847 Acc: 0.9731\n",
      "test Loss: 0.5971 Acc: 0.7282\n",
      "\n",
      "Epoch 4/24\n",
      "----------\n",
      "train Loss: 0.0410 Acc: 0.9873\n",
      "test Loss: 0.9655 Acc: 0.7257\n",
      "\n",
      "Epoch 5/24\n",
      "----------\n",
      "train Loss: 0.0186 Acc: 0.9958\n",
      "test Loss: 1.0641 Acc: 0.7494\n",
      "\n",
      "Epoch 6/24\n",
      "----------\n",
      "train Loss: 0.0245 Acc: 0.9941\n",
      "test Loss: 1.0968 Acc: 0.6775\n",
      "\n",
      "Epoch 7/24\n",
      "----------\n",
      "train Loss: 0.0088 Acc: 0.9980\n"
     ]
    }
   ],
   "source": [
    "pre_model = models.resnet50(pretrained=True)\n",
    "pre_model.fc = nn.Linear(pre_model.fc.in_features, 3)\n",
    "criterion = nn.CrossEntropyLoss()\n",
    "optimizer_ft = optim.SGD(pre_model.parameters(), lr=0.001, momentum=0.9)\n",
    "pre_model = train_model(pre_model, criterion, optimizer_ft, lr_scheduler.StepLR(optimizer_ft, step_size=7, gamma=0.1))"
   ]
  }
 ],
 "metadata": {
  "kernelspec": {
   "display_name": "python_env",
   "language": "python",
   "name": "python3"
  },
  "language_info": {
   "codemirror_mode": {
    "name": "ipython",
    "version": 3
   },
   "file_extension": ".py",
   "mimetype": "text/x-python",
   "name": "python",
   "nbconvert_exporter": "python",
   "pygments_lexer": "ipython3",
   "version": "3.11.4"
  }
 },
 "nbformat": 4,
 "nbformat_minor": 2
}
