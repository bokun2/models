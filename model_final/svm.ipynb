{
 "cells": [
  {
   "cell_type": "code",
   "execution_count": 1,
   "metadata": {},
   "outputs": [],
   "source": [
    "# Import\n",
    "import os\n",
    "import pandas as pd\n",
    "import cv2\n",
    "import numpy as np\n",
    "from matplotlib import pyplot as plt\n",
    "import tensorflow as tf\n",
    "from sklearn import datasets\n",
    "from sklearn.model_selection import train_test_split\n",
    "from sklearn.svm import SVC\n",
    "from sklearn.metrics import accuracy_score, classification_report,f1_score\n",
    "import joblib\n"
   ]
  },
  {
   "cell_type": "code",
   "execution_count": 2,
   "metadata": {},
   "outputs": [
    {
     "name": "stdout",
     "output_type": "stream",
     "text": [
      "/Users/zhangbokun/Documents/academic/4243/gunners\n"
     ]
    }
   ],
   "source": [
    "\"\"\"\n",
    "read dataset according to the given file structure\n",
    "weapon, label = 1\n",
    "norm, label = 0\n",
    "folder, the path to train folder only\n",
    "\"\"\"\n",
    "def MedianBlur(img, ksize):\n",
    "    filteredImg = cv2.medianBlur(img, ksize=ksize)\n",
    "    return filteredImg\n",
    "def load_dataset(folder):\n",
    "  data = []\n",
    "  weap_path = folder + \"/\" + \"weap\"\n",
    "  norm_path = folder + \"/\" + \"norm\"\n",
    "  print(os.getcwd())\n",
    "  for filename in os.listdir(weap_path):\n",
    "    img = cv2.imread(weap_path + \"/\" + filename,0)\n",
    "    img = MedianBlur(img,3)\n",
    "    data.append([img,1])\n",
    "    \n",
    "  for filename in os.listdir(norm_path):\n",
    "    img = cv2.imread(norm_path + \"/\" + filename,0)\n",
    "    data.append([img,0])\n",
    "\n",
    "  df = pd.DataFrame(data, columns=['image', 'label'])\n",
    "  return df\n",
    "data = load_dataset(\"frames/train\")"
   ]
  },
  {
   "cell_type": "code",
   "execution_count": 7,
   "metadata": {},
   "outputs": [
    {
     "data": {
      "text/plain": [
       "['svm_classifier.pkl']"
      ]
     },
     "execution_count": 7,
     "metadata": {},
     "output_type": "execute_result"
    }
   ],
   "source": [
    "#resize image to (720, 1280)\n",
    "X_data = []\n",
    "y_data = []\n",
    "for index, row in data.iterrows():\n",
    "    image_data = row['image'] # Access the image data\n",
    "    label = row['label']\n",
    "    img = cv2.resize(src = image_data, dsize=(500,300)).flatten()\n",
    "    X_data.append(img)\n",
    "    y_data.append(label)\n",
    "svm_classifier = SVC(kernel='rbf', C=0.1, random_state=42)\n",
    "svm_classifier.fit(X_data, y_data)\n",
    "joblib.dump(svm_classifier, 'svm_classifier.pkl')"
   ]
  },
  {
   "cell_type": "code",
   "execution_count": 5,
   "metadata": {},
   "outputs": [
    {
     "name": "stdout",
     "output_type": "stream",
     "text": [
      "/Users/zhangbokun/Documents/academic/4243/gunners\n",
      "accuracy:  0.5519072911636891\n",
      "f1:  0.2937595129375951\n"
     ]
    }
   ],
   "source": [
    "test_X = []\n",
    "y_true = []\n",
    "test = load_dataset(\"frames/test\")\n",
    "for index, row in test.iterrows():\n",
    "    image_data = row['image'] # Access the image data\n",
    "    label = row['label']\n",
    "    test_X.append(cv2.resize(src = image_data, dsize=(500,300)).flatten().tolist() )\n",
    "    y_true.append(label)\n",
    "res=svm_classifier.predict(test_X)\n",
    "\n",
    "print(\"accuracy: \", accuracy_score(test['label'].tolist(),res.tolist()))\n",
    "print(\"f1: \",f1_score(y_true,res.tolist()))\n"
   ]
  },
  {
   "cell_type": "code",
   "execution_count": 6,
   "metadata": {},
   "outputs": [
    {
     "name": "stdout",
     "output_type": "stream",
     "text": [
      "              precision    recall  f1-score   support\n",
      "\n",
      "           0       0.62      0.74      0.67      1292\n",
      "           1       0.36      0.25      0.29       779\n",
      "\n",
      "    accuracy                           0.55      2071\n",
      "   macro avg       0.49      0.49      0.48      2071\n",
      "weighted avg       0.52      0.55      0.53      2071\n",
      "\n"
     ]
    }
   ],
   "source": [
    "from sklearn.metrics import classification_report\n",
    "print(classification_report(y_true, res, labels=[0,1]))"
   ]
  }
 ],
 "metadata": {
  "kernelspec": {
   "display_name": "python_env",
   "language": "python",
   "name": "python3"
  },
  "language_info": {
   "codemirror_mode": {
    "name": "ipython",
    "version": 3
   },
   "file_extension": ".py",
   "mimetype": "text/x-python",
   "name": "python",
   "nbconvert_exporter": "python",
   "pygments_lexer": "ipython3",
   "version": "3.11.4"
  }
 },
 "nbformat": 4,
 "nbformat_minor": 2
}
